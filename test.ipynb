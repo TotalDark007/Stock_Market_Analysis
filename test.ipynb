{
 "cells": [
  {
   "cell_type": "code",
   "execution_count": 1,
   "metadata": {},
   "outputs": [],
   "source": [
    "def is_even(x):\n",
    "    if x<1:\n",
    "        raise ValueError(\"X must be greater than 0\")\n",
    "    if x%2 == 0:\n",
    "        print(f\"{x} is an even number\")\n",
    "    else:\n",
    "        print(f\"{x} is an odd number\")"
   ]
  },
  {
   "cell_type": "code",
   "execution_count": 2,
   "metadata": {},
   "outputs": [
    {
     "name": "stdout",
     "output_type": "stream",
     "text": [
      "1 is an odd number\n"
     ]
    }
   ],
   "source": [
    "is_even(1)"
   ]
  },
  {
   "cell_type": "code",
   "execution_count": 3,
   "metadata": {},
   "outputs": [],
   "source": [
    "def prime(x):\n",
    "    if x<1:\n",
    "        raise ValueError(\"X must be greater than 1\")\n",
    "    for i in range(2,(x//2)):\n",
    "        if x%i == 0:\n",
    "            return(f\"{x} is not a prime number\")\n",
    "        else:\n",
    "            return(f\"{x} is a prime numnber\")"
   ]
  },
  {
   "cell_type": "code",
   "execution_count": 4,
   "metadata": {},
   "outputs": [],
   "source": [
    "import numpy as np \n",
    "import pandas as pd "
   ]
  },
  {
   "cell_type": "code",
   "execution_count": 5,
   "metadata": {},
   "outputs": [
    {
     "data": {
      "text/plain": [
       "state\n",
       "New South Wales      3.052632\n",
       "Queensland           2.888889\n",
       "South Australia      3.142857\n",
       "Victoria             2.576923\n",
       "Western Australia    1.714286\n",
       "Name: rating, dtype: float64"
      ]
     },
     "execution_count": 5,
     "metadata": {},
     "output_type": "execute_result"
    }
   ],
   "source": [
    "df = pd.read_csv(\"restaurant.csv\")\n",
    "df.groupby(\"state\")[\"rating\"].mean()"
   ]
  },
  {
   "cell_type": "code",
   "execution_count": 6,
   "metadata": {},
   "outputs": [
    {
     "name": "stdout",
     "output_type": "stream",
     "text": [
      "<class 'pandas.core.frame.DataFrame'>\n",
      "RangeIndex: 100 entries, 0 to 99\n",
      "Data columns (total 20 columns):\n",
      " #   Column              Non-Null Count  Dtype  \n",
      "---  ------              --------------  -----  \n",
      " 0   id                  100 non-null    int64  \n",
      " 1   name                100 non-null    object \n",
      " 2   address             100 non-null    object \n",
      " 3   rating              100 non-null    int64  \n",
      " 4   type                100 non-null    object \n",
      " 5   delivers            100 non-null    int64  \n",
      " 6   pick_ups            100 non-null    int64  \n",
      " 7   state               100 non-null    object \n",
      " 8   verified            99 non-null     float64\n",
      " 9   verified_on         98 non-null     object \n",
      " 10  closed              96 non-null     float64\n",
      " 11  open_date           100 non-null    object \n",
      " 12  owner_id            100 non-null    int64  \n",
      " 13  abn                 100 non-null    int64  \n",
      " 14  is_gst_registered   100 non-null    int64  \n",
      " 15  website_url         0 non-null      float64\n",
      " 16  phone_number\n",
      "       100 non-null    object \n",
      " 17  google_maps_id      100 non-null    int64  \n",
      " 18  min_delivery_value  71 non-null     float64\n",
      " 19  is_boosted          100 non-null    int64  \n",
      "dtypes: float64(4), int64(9), object(7)\n",
      "memory usage: 15.8+ KB\n"
     ]
    }
   ],
   "source": [
    "df.info()"
   ]
  },
  {
   "cell_type": "code",
   "execution_count": null,
   "metadata": {},
   "outputs": [],
   "source": []
  },
  {
   "cell_type": "code",
   "execution_count": null,
   "metadata": {},
   "outputs": [],
   "source": []
  }
 ],
 "metadata": {
  "kernelspec": {
   "display_name": "Python 3.9.7 ('base')",
   "language": "python",
   "name": "python3"
  },
  "language_info": {
   "codemirror_mode": {
    "name": "ipython",
    "version": 3
   },
   "file_extension": ".py",
   "mimetype": "text/x-python",
   "name": "python",
   "nbconvert_exporter": "python",
   "pygments_lexer": "ipython3",
   "version": "3.9.7"
  },
  "orig_nbformat": 4,
  "vscode": {
   "interpreter": {
    "hash": "9c1d5a056f04d97314a9f946bc8c5185004572d3d68312220c0ba298420421f7"
   }
  }
 },
 "nbformat": 4,
 "nbformat_minor": 2
}
